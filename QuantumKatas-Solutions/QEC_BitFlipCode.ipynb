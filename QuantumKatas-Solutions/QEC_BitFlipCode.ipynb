{
 "cells": [
  {
   "cell_type": "markdown",
   "metadata": {},
   "source": [
    "# Quantum error correction - bit-flip code quantum kata\n",
    "\n",
    "The **\"Quantum error correction - bit-flip code\"** quantum kata is a series of exercises designed to get you familiar with quantum error correction (QEC) and programming in Q#.  It introduces you to the simplest of QEC codes - the three-qubit bit-flip code, which encodes each logical qubit in three physical qubits and protects against single bit-flip error (equivalent to applying an X gate).  In practice quantum systems can have other types of errors, which will be considered in the following katas on quantum error correction.  \n",
    "\n",
    "Each task is wrapped in one operation preceded by the description of the task.\n",
    "Your goal is to fill in the blank (marked with // ... comment)\n",
    "with some Q# code that solves the task. To verify your answer, run the cell using Ctrl+Enter (⌘+Enter on macOS).\n",
    "\n",
    "The tasks are given in approximate order of increasing difficulty."
   ]
  },
  {
   "cell_type": "markdown",
   "metadata": {},
   "source": [
    "To begin, first prepare this notebook for execution (if you skip this step, you'll get \"Syntax does not match any known patterns\" error when you try to execute Q# code in the next cells; if you skip the second step, you'll get \"Invalid test name\" error):"
   ]
  },
  {
   "cell_type": "code",
   "execution_count": 2,
   "metadata": {},
   "outputs": [
    {
     "data": {
      "application/json": "{\"LastUpdated\":\"2020-09-07T09:06:07.1941009+04:30\",\"IsCompleted\":true,\"Description\":\"Adding package Microsoft.Quantum.Katas::0.12.20072031\",\"Subtask\":\"done\"}",
      "text/plain": [
       "Adding package Microsoft.Quantum.Katas::0.12.20072031: done!"
      ]
     },
     "metadata": {},
     "output_type": "display_data"
    },
    {
     "data": {
      "application/json": "[\"Microsoft.Quantum.Standard::0.12.20072031\",\"Microsoft.Quantum.Katas::0.12.20072031\"]",
      "text/html": [
       "<ul><li>Microsoft.Quantum.Standard::0.12.20072031</li><li>Microsoft.Quantum.Katas::0.12.20072031</li></ul>"
      ],
      "text/plain": [
       "Microsoft.Quantum.Standard::0.12.20072031, Microsoft.Quantum.Katas::0.12.20072031"
      ]
     },
     "execution_count": 2,
     "metadata": {},
     "output_type": "execute_result"
    }
   ],
   "source": [
    "%package Microsoft.Quantum.Katas::0.12.20072031"
   ]
  },
  {
   "cell_type": "markdown",
   "metadata": {},
   "source": [
    "> The package versions in the output of the cell above should always match. If you are running the Notebooks locally and the versions do not match, please install the IQ# version that matches the version of the `Microsoft.Quantum.Katas` package.\n",
    "> <details>\n",
    "> <summary><u>How to install the right IQ# version</u></summary>\n",
    "> For example, if the version of `Microsoft.Quantum.Katas` package above is 0.6.1905.301, the installation steps are as follows:\n",
    ">\n",
    "> 1. Stop the kernel.\n",
    "> 2. Uninstall the existing version of IQ#:\n",
    ">        dotnet tool uninstall microsoft.quantum.iqsharp -g\n",
    "> 3. Install the matching version:\n",
    ">        dotnet tool install microsoft.quantum.iqsharp -g --version 0.6.1905.301\n",
    "> 4. Reinstall the kernel:\n",
    ">        dotnet iqsharp install\n",
    "> 5. Restart the Notebook.\n",
    "> </details>\n"
   ]
  },
  {
   "cell_type": "code",
   "execution_count": 3,
   "metadata": {},
   "outputs": [
    {
     "data": {
      "application/json": "[\"Quantum.Kata.QEC_BitFlipCode.AssertEqualOnZeroState\",\"Quantum.Kata.QEC_BitFlipCode.BindErrorCorrectionRound\",\"Quantum.Kata.QEC_BitFlipCode.BindErrorCorrectionRoundImpl\",\"Quantum.Kata.QEC_BitFlipCode.CorrectErrorOnAnyQubit\",\"Quantum.Kata.QEC_BitFlipCode.CorrectErrorOnAnyQubit_Reference\",\"Quantum.Kata.QEC_BitFlipCode.CorrectErrorOnLeftQubit\",\"Quantum.Kata.QEC_BitFlipCode.CorrectErrorOnLeftQubit_Reference\",\"Quantum.Kata.QEC_BitFlipCode.DetectErrorOnAnyQubit\",\"Quantum.Kata.QEC_BitFlipCode.DetectErrorOnAnyQubit_Reference\",\"Quantum.Kata.QEC_BitFlipCode.DetectErrorOnLeftQubit\",\"Quantum.Kata.QEC_BitFlipCode.DetectErrorOnLeftQubit_Reference\",\"Quantum.Kata.QEC_BitFlipCode.Encode\",\"Quantum.Kata.QEC_BitFlipCode.Encode_Reference\",\"Quantum.Kata.QEC_BitFlipCode.FindFirstDiff_Reference\",\"Quantum.Kata.QEC_BitFlipCode.IntToBoolArray\",\"Quantum.Kata.QEC_BitFlipCode.LogicalX\",\"Quantum.Kata.QEC_BitFlipCode.LogicalX_Reference\",\"Quantum.Kata.QEC_BitFlipCode.LogicalZ\",\"Quantum.Kata.QEC_BitFlipCode.LogicalZ_Reference\",\"Quantum.Kata.QEC_BitFlipCode.MeasureParity\",\"Quantum.Kata.QEC_BitFlipCode.MeasureParity_Reference\",\"Quantum.Kata.QEC_BitFlipCode.PauliErrors\",\"Quantum.Kata.QEC_BitFlipCode.StatePrep_Bitmask\",\"Quantum.Kata.QEC_BitFlipCode.StatePrep_Rotate\",\"Quantum.Kata.QEC_BitFlipCode.StatePrep_TwoBitmasks\",\"Quantum.Kata.QEC_BitFlipCode.StatePrep_WithError\",\"Quantum.Kata.QEC_BitFlipCode.T01_MeasureParity_Test\",\"Quantum.Kata.QEC_BitFlipCode.T02_Encode_Test\",\"Quantum.Kata.QEC_BitFlipCode.T03_DetectErrorOnLeftQubit_Test\",\"Quantum.Kata.QEC_BitFlipCode.T04_CorrectErrorOnLeftQubit_Test\",\"Quantum.Kata.QEC_BitFlipCode.T05_DetectErrorOnAnyQubit_Test\",\"Quantum.Kata.QEC_BitFlipCode.T06_CorrectErrorOnAnyQubit_Test\",\"Quantum.Kata.QEC_BitFlipCode.T07_LogicalX_Test\",\"Quantum.Kata.QEC_BitFlipCode.T08_LogicalZ_Test\",\"Quantum.Kata.QEC_BitFlipCode.TestParityOnState\",\"Quantum.Kata.QEC_BitFlipCode.ToString_Bitmask\"]",
      "text/html": [
       "<ul><li>Quantum.Kata.QEC_BitFlipCode.AssertEqualOnZeroState</li><li>Quantum.Kata.QEC_BitFlipCode.BindErrorCorrectionRound</li><li>Quantum.Kata.QEC_BitFlipCode.BindErrorCorrectionRoundImpl</li><li>Quantum.Kata.QEC_BitFlipCode.CorrectErrorOnAnyQubit</li><li>Quantum.Kata.QEC_BitFlipCode.CorrectErrorOnAnyQubit_Reference</li><li>Quantum.Kata.QEC_BitFlipCode.CorrectErrorOnLeftQubit</li><li>Quantum.Kata.QEC_BitFlipCode.CorrectErrorOnLeftQubit_Reference</li><li>Quantum.Kata.QEC_BitFlipCode.DetectErrorOnAnyQubit</li><li>Quantum.Kata.QEC_BitFlipCode.DetectErrorOnAnyQubit_Reference</li><li>Quantum.Kata.QEC_BitFlipCode.DetectErrorOnLeftQubit</li><li>Quantum.Kata.QEC_BitFlipCode.DetectErrorOnLeftQubit_Reference</li><li>Quantum.Kata.QEC_BitFlipCode.Encode</li><li>Quantum.Kata.QEC_BitFlipCode.Encode_Reference</li><li>Quantum.Kata.QEC_BitFlipCode.FindFirstDiff_Reference</li><li>Quantum.Kata.QEC_BitFlipCode.IntToBoolArray</li><li>Quantum.Kata.QEC_BitFlipCode.LogicalX</li><li>Quantum.Kata.QEC_BitFlipCode.LogicalX_Reference</li><li>Quantum.Kata.QEC_BitFlipCode.LogicalZ</li><li>Quantum.Kata.QEC_BitFlipCode.LogicalZ_Reference</li><li>Quantum.Kata.QEC_BitFlipCode.MeasureParity</li><li>Quantum.Kata.QEC_BitFlipCode.MeasureParity_Reference</li><li>Quantum.Kata.QEC_BitFlipCode.PauliErrors</li><li>Quantum.Kata.QEC_BitFlipCode.StatePrep_Bitmask</li><li>Quantum.Kata.QEC_BitFlipCode.StatePrep_Rotate</li><li>Quantum.Kata.QEC_BitFlipCode.StatePrep_TwoBitmasks</li><li>Quantum.Kata.QEC_BitFlipCode.StatePrep_WithError</li><li>Quantum.Kata.QEC_BitFlipCode.T01_MeasureParity_Test</li><li>Quantum.Kata.QEC_BitFlipCode.T02_Encode_Test</li><li>Quantum.Kata.QEC_BitFlipCode.T03_DetectErrorOnLeftQubit_Test</li><li>Quantum.Kata.QEC_BitFlipCode.T04_CorrectErrorOnLeftQubit_Test</li><li>Quantum.Kata.QEC_BitFlipCode.T05_DetectErrorOnAnyQubit_Test</li><li>Quantum.Kata.QEC_BitFlipCode.T06_CorrectErrorOnAnyQubit_Test</li><li>Quantum.Kata.QEC_BitFlipCode.T07_LogicalX_Test</li><li>Quantum.Kata.QEC_BitFlipCode.T08_LogicalZ_Test</li><li>Quantum.Kata.QEC_BitFlipCode.TestParityOnState</li><li>Quantum.Kata.QEC_BitFlipCode.ToString_Bitmask</li></ul>"
      ],
      "text/plain": [
       "Quantum.Kata.QEC_BitFlipCode.AssertEqualOnZeroState, Quantum.Kata.QEC_BitFlipCode.BindErrorCorrectionRound, Quantum.Kata.QEC_BitFlipCode.BindErrorCorrectionRoundImpl, Quantum.Kata.QEC_BitFlipCode.CorrectErrorOnAnyQubit, Quantum.Kata.QEC_BitFlipCode.CorrectErrorOnAnyQubit_Reference, Quantum.Kata.QEC_BitFlipCode.CorrectErrorOnLeftQubit, Quantum.Kata.QEC_BitFlipCode.CorrectErrorOnLeftQubit_Reference, Quantum.Kata.QEC_BitFlipCode.DetectErrorOnAnyQubit, Quantum.Kata.QEC_BitFlipCode.DetectErrorOnAnyQubit_Reference, Quantum.Kata.QEC_BitFlipCode.DetectErrorOnLeftQubit, Quantum.Kata.QEC_BitFlipCode.DetectErrorOnLeftQubit_Reference, Quantum.Kata.QEC_BitFlipCode.Encode, Quantum.Kata.QEC_BitFlipCode.Encode_Reference, Quantum.Kata.QEC_BitFlipCode.FindFirstDiff_Reference, Quantum.Kata.QEC_BitFlipCode.IntToBoolArray, Quantum.Kata.QEC_BitFlipCode.LogicalX, Quantum.Kata.QEC_BitFlipCode.LogicalX_Reference, Quantum.Kata.QEC_BitFlipCode.LogicalZ, Quantum.Kata.QEC_BitFlipCode.LogicalZ_Reference, Quantum.Kata.QEC_BitFlipCode.MeasureParity, Quantum.Kata.QEC_BitFlipCode.MeasureParity_Reference, Quantum.Kata.QEC_BitFlipCode.PauliErrors, Quantum.Kata.QEC_BitFlipCode.StatePrep_Bitmask, Quantum.Kata.QEC_BitFlipCode.StatePrep_Rotate, Quantum.Kata.QEC_BitFlipCode.StatePrep_TwoBitmasks, Quantum.Kata.QEC_BitFlipCode.StatePrep_WithError, Quantum.Kata.QEC_BitFlipCode.T01_MeasureParity_Test, Quantum.Kata.QEC_BitFlipCode.T02_Encode_Test, Quantum.Kata.QEC_BitFlipCode.T03_DetectErrorOnLeftQubit_Test, Quantum.Kata.QEC_BitFlipCode.T04_CorrectErrorOnLeftQubit_Test, Quantum.Kata.QEC_BitFlipCode.T05_DetectErrorOnAnyQubit_Test, Quantum.Kata.QEC_BitFlipCode.T06_CorrectErrorOnAnyQubit_Test, Quantum.Kata.QEC_BitFlipCode.T07_LogicalX_Test, Quantum.Kata.QEC_BitFlipCode.T08_LogicalZ_Test, Quantum.Kata.QEC_BitFlipCode.TestParityOnState, Quantum.Kata.QEC_BitFlipCode.ToString_Bitmask"
      ]
     },
     "execution_count": 3,
     "metadata": {},
     "output_type": "execute_result"
    }
   ],
   "source": [
    "%workspace reload"
   ]
  },
  {
   "cell_type": "markdown",
   "metadata": {},
   "source": [
    "### Task 1. Parity Measurements\n",
    "\n",
    "**Input:** three qubits (stored as an array of length 3) in an unknown basis state or in a superposition of basis states of the same parity.\n",
    "\n",
    "**Output:** the parity of this state encoded as a value of `Result` type: `Zero` for parity 0 and `One` for parity 1.  The parity of basis state $| x_{0} x_{1} x_{2}\\rangle$ is defined as $(x_{0} \\otimes x_{1} \\otimes x_{2})$.  After applying the operation the state of the qubits should not change. You can use exactly one measurement.\n",
    "    \n",
    "**Example:** $|000 \\rangle$, $|101\\rangle$ and $|011\\rangle$ all have parity 0, while $|010\\rangle$ and $|111\\rangle$ have parity 1."
   ]
  },
  {
   "cell_type": "code",
   "execution_count": 5,
   "metadata": {},
   "outputs": [
    {
     "name": "stdout",
     "output_type": "stream",
     "text": [
      "Testing on |000⟩ + |011⟩ with parity 0\n",
      "Testing on |000⟩ + |101⟩ with parity 0\n",
      "Testing on |000⟩ + |110⟩ with parity 0\n",
      "Testing on |001⟩ + |010⟩ with parity 1\n",
      "Testing on |001⟩ + |100⟩ with parity 1\n",
      "Testing on |001⟩ + |111⟩ with parity 1\n",
      "Testing on |010⟩ + |100⟩ with parity 1\n",
      "Testing on |010⟩ + |111⟩ with parity 1\n",
      "Testing on |011⟩ + |101⟩ with parity 0\n",
      "Testing on |011⟩ + |110⟩ with parity 0\n",
      "Testing on |100⟩ + |111⟩ with parity 1\n",
      "Testing on |101⟩ + |110⟩ with parity 0\n"
     ]
    },
    {
     "data": {
      "application/json": "\"Success!\"",
      "text/plain": [
       "Success!"
      ]
     },
     "execution_count": 5,
     "metadata": {},
     "output_type": "execute_result"
    }
   ],
   "source": [
    "%kata T01_MeasureParity_Test \n",
    "\n",
    "operation MeasureParity (register : Qubit[]) : Result {\n",
    "    using (aux = Qubit()) {\n",
    "        CNOT(register[0], aux);\n",
    "        CNOT(register[1], aux);\n",
    "        CNOT(register[2], aux);\n",
    "        return M(aux);\n",
    "    }\n",
    "}"
   ]
  },
  {
   "cell_type": "markdown",
   "metadata": {},
   "source": [
    "### Task 2. Encoding Codewords\n",
    "\n",
    "**Input**: three qubits in the state $| \\psi \\rangle \\otimes |00\\rangle$, where $|\\psi\\rangle = \\alpha |0\\rangle + \\beta |1\\rangle$ is the state of the first qubit, i.e., `register[0]`.\n",
    "\n",
    "**Goal**:  create a state $|\\bar{\\psi}\\rangle := \\alpha |000\\rangle + \\beta |111\\rangle$ on these qubits.   "
   ]
  },
  {
   "cell_type": "code",
   "execution_count": 6,
   "metadata": {},
   "outputs": [
    {
     "data": {
      "application/json": "\"Success!\"",
      "text/plain": [
       "Success!"
      ]
     },
     "execution_count": 6,
     "metadata": {},
     "output_type": "execute_result"
    }
   ],
   "source": [
    "%kata T02_Encode_Test \n",
    "\n",
    "operation Encode (register : Qubit[]) : Unit {\n",
    "    CNOT(register[0], register[1]);\n",
    "    CNOT(register[0], register[2]);\n",
    "}"
   ]
  },
  {
   "cell_type": "markdown",
   "metadata": {},
   "source": [
    "### Task 3. Error Detection I\n",
    "\n",
    "**Inputs:** three qubits that are either in the state $|\\bar{\\psi}\\rangle = \\alpha |000\\rangle + \\beta |111\\rangle$ or in the state $X\\mathbb{11} |\\bar{\\psi}\\rangle = \\alpha |100\\rangle + \\beta |011\\rangle$.  \n",
    "\n",
    "> Note that the second state is the first state with X applied to the first qubit, which corresponds to an X error happening on the first qubit.\n",
    "\n",
    "**Output:** `Zero` if the input is $|\\bar{\\psi}\\rangle$ (state without the error), `One` if the input is $X\\mathbb{11} |\\bar{\\psi}\\rangle$ (state with the error).  After applying the operation the state of the qubits should not change."
   ]
  },
  {
   "cell_type": "code",
   "execution_count": 10,
   "metadata": {},
   "outputs": [
    {
     "data": {
      "application/json": "\"Success!\"",
      "text/plain": [
       "Success!"
      ]
     },
     "execution_count": 10,
     "metadata": {},
     "output_type": "execute_result"
    }
   ],
   "source": [
    "%kata T03_DetectErrorOnLeftQubit_Test \n",
    "\n",
    "operation DetectErrorOnLeftQubit (register : Qubit[]) : Result {\n",
    "    CNOT(register[0], register[2]);\n",
    "    mutable res = M(register[2]);\n",
    "    CNOT(register[0], register[2]);\n",
    "    return res;\n",
    "}"
   ]
  },
  {
   "cell_type": "markdown",
   "metadata": {},
   "source": [
    "### Task 4. Error Correction I\n",
    "\n",
    "**Input:** three qubits that are either in the state $|\\bar{\\psi}\\rangle = \\alpha |000\\rangle + \\beta |111\\rangle$ or in the state $X\\mathbb{11} |\\bar{\\psi}\\rangle = \\alpha |100\\rangle + \\beta |011\\rangle$.\n",
    "\n",
    "**Goal:**  make sure that the qubits are returned to the state $|\\bar{\\psi}\\rangle$  (i.e., determine whether an X error has occurred, and if so, fix it).\n",
    "\n",
    "<br/>\n",
    "<details>\n",
    "  <summary>Need a hint? Click here </summary>\n",
    "  You can use task 3 to figure out which state you are given.\n",
    "</details>"
   ]
  },
  {
   "cell_type": "code",
   "execution_count": 11,
   "metadata": {},
   "outputs": [
    {
     "data": {
      "application/json": "\"Success!\"",
      "text/plain": [
       "Success!"
      ]
     },
     "execution_count": 11,
     "metadata": {},
     "output_type": "execute_result"
    }
   ],
   "source": [
    "%kata T04_CorrectErrorOnLeftQubit_Test\n",
    "\n",
    "operation CorrectErrorOnLeftQubit (register : Qubit[]) : Unit {\n",
    "    if (DetectErrorOnLeftQubit(register) == One) {\n",
    "        X(register[0]);\n",
    "    }\n",
    "}"
   ]
  },
  {
   "cell_type": "markdown",
   "metadata": {},
   "source": [
    "### Task 5. Error Detection II\n",
    "\n",
    "**Input:** three qubits that are either in the state $|\\bar{\\psi}\\rangle = \\alpha |000\\rangle + \\beta |111\\rangle$ or in one of the states $X\\mathbb{11} |\\bar{\\psi}\\rangle$, $\\mathbb{1}X\\mathbb{1} |\\bar{\\psi}\\rangle$ or $\\mathbb{11}X |\\bar{\\psi}\\rangle$ (i.e., state $|\\bar{\\psi}\\rangle$ with an X error applied to one of the qubits).\n",
    "\n",
    "**Goal:** determine whether an X error has occurred, and if so, on which qubit.\n",
    "\n",
    "| Error                     | Output |\n",
    "|---------------------------|--------|\n",
    "| None                      | 0      |\n",
    "| $X\\mathbb{11}$            | 1      |\n",
    "| $\\mathbb{1}X\\mathbb{1}$   | 2      |\n",
    "| $\\mathbb{11}X$            | 3      |\n",
    "\n",
    "After applying the operation the state of the qubits should not change."
   ]
  },
  {
   "cell_type": "code",
   "execution_count": 28,
   "metadata": {},
   "outputs": [
    {
     "name": "stdout",
     "output_type": "stream",
     "text": [
      "Testing with no error.\n",
      "Testing with error on qubit 1.\n",
      "Testing with error on qubit 2.\n",
      "Testing with error on qubit 3.\n"
     ]
    },
    {
     "data": {
      "application/json": "\"Success!\"",
      "text/plain": [
       "Success!"
      ]
     },
     "execution_count": 28,
     "metadata": {},
     "output_type": "execute_result"
    }
   ],
   "source": [
    "%kata T05_DetectErrorOnAnyQubit_Test\n",
    "\n",
    "open Microsoft.Quantum.Convert;\n",
    "\n",
    "operation DetectErrorOnAnyQubit (register : Qubit[]) : Int {\n",
    "    mutable res = new Result[2];\n",
    "    within {\n",
    "        CNOT(register[0], register[2]);   \n",
    "    }\n",
    "    apply {\n",
    "        set res w/= 1 <- MeasureParity(register);   \n",
    "    }\n",
    "    within {\n",
    "        CNOT(register[1], register[2]);\n",
    "    }\n",
    "    apply {\n",
    "        set res w/= 0 <- MeasureParity(register);\n",
    "    }\n",
    "    return ResultArrayAsInt(res);\n",
    "}"
   ]
  },
  {
   "cell_type": "markdown",
   "metadata": {},
   "source": [
    "### Task 6. Error Correction II\n",
    "\n",
    "**Input:** three qubits that are either in the state $|\\bar{\\psi}\\rangle = \\alpha |000\\rangle + \\beta |111\\rangle$ or in one of the states $X\\mathbb{11} |\\bar{\\psi}\\rangle$, $\\mathbb{1}X\\mathbb{1} |\\bar{\\psi}\\rangle$ or $\\mathbb{11}X |\\bar{\\psi}\\rangle$ (i.e., the qubits start in state $|\\bar{\\psi}\\rangle$ with an X error possibly applied to one of the qubits).\n",
    "\n",
    "**Goal:**  make sure that the qubits are returned to the state $|\\bar{\\psi}\\rangle$ (i.e., determine whether an X error has occurred on any qubit, and if so, fix it)."
   ]
  },
  {
   "cell_type": "code",
   "execution_count": 35,
   "metadata": {},
   "outputs": [
    {
     "name": "stdout",
     "output_type": "stream",
     "text": [
      "Task 06: Testing on [PauliI,PauliI,PauliI]...\n",
      "Task 06: Testing on [PauliX,PauliI,PauliI]...\n",
      "Task 06: Testing on [PauliI,PauliX,PauliI]...\n",
      "Task 06: Testing on [PauliI,PauliI,PauliX]...\n"
     ]
    },
    {
     "data": {
      "application/json": "\"Success!\"",
      "text/plain": [
       "Success!"
      ]
     },
     "execution_count": 35,
     "metadata": {},
     "output_type": "execute_result"
    }
   ],
   "source": [
    "%kata T06_CorrectErrorOnAnyQubit_Test\n",
    "\n",
    "operation CorrectErrorOnAnyQubit (register : Qubit[]) : Unit {\n",
    "    let errInt = DetectErrorOnAnyQubit(register);\n",
    "    if (errInt > 0) {\n",
    "        X(register[errInt - 1]);\n",
    "    }\n",
    "}"
   ]
  },
  {
   "cell_type": "markdown",
   "metadata": {},
   "source": [
    "> All the tasks in this kata have been dealing with X errors on single qubit.  The bit-flip code doesn't allow one to detect or correct a Z error or multiple X errors.  Indeed, \n",
    "  * A Z error on a logical state $|\\psi\\rangle = \\alpha |0\\rangle + \\beta |1\\rangle$ encoded using the bit-flip code would convert the encoded state $|\\bar{\\psi}\\rangle = \\alpha |000\\rangle + \\beta |111\\rangle$ into $\\alpha |000\\rangle - \\beta |111\\rangle$,  which is a correct code word for logical state $\\alpha |0\\rangle - \\beta |1\\rangle$.  \n",
    "  * Two X errors (say, on qubits 1 and 2) would convert $|\\bar{\\psi}\\rangle$ to $\\alpha |110\\rangle + \\beta |001\\rangle$,  which is a code word for logical state $\\beta |0\\rangle + \\alpha |1\\rangle$ with one X error on qubit 3."
   ]
  },
  {
   "cell_type": "markdown",
   "metadata": {},
   "source": [
    "### Task 7. Logical X Gate\n",
    "\n",
    "**Input:** three qubits that are either in the state $|\\bar{\\psi}\\rangle = \\alpha |000\\rangle + \\beta |111\\rangle$ or in one of the states $X\\mathbb{11} |\\bar{\\psi}\\rangle$, $\\mathbb{1}X\\mathbb{1} |\\bar{\\psi}\\rangle$ or $\\mathbb{11}X |\\bar{\\psi}\\rangle$ (i.e., state $|\\bar{\\psi}\\rangle$ with an X error applied to one of the qubits).\n",
    "\n",
    "**Goal:** apply a logical X operator, i.e., convert the qubits to the state $\\bar{X} |\\bar{\\psi}\\rangle = \\beta |000\\rangle + \\alpha |111\\rangle$ or one of the states that can be represented as $\\bar{X} |\\bar{\\psi}\\rangle$ with an X error applied to one of the qubits (for example, $\\beta |010\\rangle + \\alpha |101\\rangle$).  If the state has an error, you can fix it, but this is not necessary."
   ]
  },
  {
   "cell_type": "code",
   "execution_count": 37,
   "metadata": {},
   "outputs": [
    {
     "name": "stdout",
     "output_type": "stream",
     "text": [
      "Task 07: Testing on [PauliI,PauliI,PauliI]...\n",
      "Task 07: Testing on [PauliX,PauliI,PauliI]...\n",
      "Task 07: Testing on [PauliI,PauliX,PauliI]...\n",
      "Task 07: Testing on [PauliI,PauliI,PauliX]...\n"
     ]
    },
    {
     "data": {
      "application/json": "\"Success!\"",
      "text/plain": [
       "Success!"
      ]
     },
     "execution_count": 37,
     "metadata": {},
     "output_type": "execute_result"
    }
   ],
   "source": [
    "%kata T07_LogicalX_Test\n",
    "\n",
    "operation LogicalX (register : Qubit[]) : Unit {\n",
    "    ApplyToEach(X, register);\n",
    "}"
   ]
  },
  {
   "cell_type": "markdown",
   "metadata": {},
   "source": [
    "### Task 8. Logical Z Gate\n",
    "\n",
    "**Input:** three qubits that are either in the state $|\\bar{\\psi}\\rangle = \\alpha |000\\rangle + \\beta |111\\rangle$ or in one of the states $X\\mathbb{11} |\\bar{\\psi}\\rangle$, $\\mathbb{1}X\\mathbb{1} |\\bar{\\psi}\\rangle$ or $\\mathbb{11}X |\\bar{\\psi}\\rangle$ (i.e., state $|\\bar{\\psi}\\rangle$ with an X error applied to one of the qubits).\n",
    "\n",
    "**Goal:** apply a logical Z operator, i.e., convert the qubits to the state $\\bar{Z} \\bar{\\psi}\\rangle = \\alpha |000\\rangle - \\beta |111\\rangle$ or one of the states that can be represented as $\\bar{Z} |\\bar{\\psi}\\rangle$ with an X error applied to one of the qubits (for example, $\\alpha |010\\rangle - \\beta |101\\rangle$ ). If the state has an error, you can fix it, but this is not necessary."
   ]
  },
  {
   "cell_type": "code",
   "execution_count": 38,
   "metadata": {},
   "outputs": [
    {
     "name": "stdout",
     "output_type": "stream",
     "text": [
      "Task 08: Testing on [PauliI,PauliI,PauliI]...\n",
      "Task 08: Testing on [PauliX,PauliI,PauliI]...\n",
      "Task 08: Testing on [PauliI,PauliX,PauliI]...\n",
      "Task 08: Testing on [PauliI,PauliI,PauliX]...\n"
     ]
    },
    {
     "data": {
      "application/json": "\"Success!\"",
      "text/plain": [
       "Success!"
      ]
     },
     "execution_count": 38,
     "metadata": {},
     "output_type": "execute_result"
    }
   ],
   "source": [
    "%kata T08_LogicalZ_Test\n",
    "\n",
    "operation LogicalZ (register : Qubit[]) : Unit {\n",
    "    ApplyToEach(Z, register);\n",
    "}"
   ]
  }
 ],
 "metadata": {
  "kernelspec": {
   "display_name": "Q#",
   "language": "qsharp",
   "name": "iqsharp"
  },
  "language_info": {
   "file_extension": ".qs",
   "mimetype": "text/x-qsharp",
   "name": "qsharp",
   "version": "0.12"
  }
 },
 "nbformat": 4,
 "nbformat_minor": 2
}
